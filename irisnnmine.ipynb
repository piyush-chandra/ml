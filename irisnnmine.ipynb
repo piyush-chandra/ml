{
 "cells": [
  {
   "cell_type": "code",
   "execution_count": 80,
   "metadata": {},
   "outputs": [],
   "source": [
    "import numpy as np\n",
    "import pandas as pd\n",
    "from urllib.request import urlretrieve"
   ]
  },
  {
   "cell_type": "code",
   "execution_count": 81,
   "metadata": {},
   "outputs": [],
   "source": [
    "iris = 'http://archive.ics.uci.edu/ml/machine-learning-databases/iris/iris.data'\n",
    "urlretrieve(iris)\n",
    "df = pd.read_csv(iris, sep=',')"
   ]
  },
  {
   "cell_type": "code",
   "execution_count": 82,
   "metadata": {},
   "outputs": [],
   "source": [
    "attributes = [\"w\", \"x\", \"y\", \"z\", \"labeli\"]\n",
    "df.columns = attributes"
   ]
  },
  {
   "cell_type": "code",
   "execution_count": 83,
   "metadata": {},
   "outputs": [
    {
     "name": "stdout",
     "output_type": "stream",
     "text": [
      "     w    x    y    z\n",
      "0  4.9  3.0  1.4  0.2\n"
     ]
    }
   ],
   "source": [
    "x_t=df.drop('labeli',axis=1)\n",
    "x_trs=x_t.head(39)\n",
    "x_tv=x_t[49:89]\n",
    "x_tvs=x_t[99:139]\n",
    "x_train=pd.concat([x_trs,x_tv,x_tvs], ignore_index=True)\n",
    "print(x_train.head(1))"
   ]
  },
  {
   "cell_type": "code",
   "execution_count": 84,
   "metadata": {},
   "outputs": [
    {
     "name": "stderr",
     "output_type": "stream",
     "text": [
      "c:\\users\\patryk\\appdata\\local\\programs\\python\\python37\\lib\\site-packages\\ipykernel_launcher.py:1: SettingWithCopyWarning: \n",
      "A value is trying to be set on a copy of a slice from a DataFrame\n",
      "\n",
      "See the caveats in the documentation: http://pandas.pydata.org/pandas-docs/stable/indexing.html#indexing-view-versus-copy\n",
      "  \"\"\"Entry point for launching an IPython kernel.\n",
      "c:\\users\\patryk\\appdata\\local\\programs\\python\\python37\\lib\\site-packages\\ipykernel_launcher.py:2: SettingWithCopyWarning: \n",
      "A value is trying to be set on a copy of a slice from a DataFrame\n",
      "\n",
      "See the caveats in the documentation: http://pandas.pydata.org/pandas-docs/stable/indexing.html#indexing-view-versus-copy\n",
      "  \n",
      "c:\\users\\patryk\\appdata\\local\\programs\\python\\python37\\lib\\site-packages\\ipykernel_launcher.py:3: SettingWithCopyWarning: \n",
      "A value is trying to be set on a copy of a slice from a DataFrame\n",
      "\n",
      "See the caveats in the documentation: http://pandas.pydata.org/pandas-docs/stable/indexing.html#indexing-view-versus-copy\n",
      "  This is separate from the ipykernel package so we can avoid doing imports until\n"
     ]
    }
   ],
   "source": [
    "df.labeli[df.labeli == 'Iris-setosa'] = 0\n",
    "df.labeli[df.labeli == 'Iris-versicolor'] = 1\n",
    "df.labeli[df.labeli == 'Iris-virginica'] = 2"
   ]
  },
  {
   "cell_type": "code",
   "execution_count": 85,
   "metadata": {},
   "outputs": [],
   "source": [
    "y=df['labeli']\n",
    "y_t=y[0:39]\n",
    "y_tr=y[49:89]\n",
    "y_tra=y[99:139]\n",
    "y_train=pd.concat([y_t,y_tr,y_tra], ignore_index=True)"
   ]
  },
  {
   "cell_type": "code",
   "execution_count": 86,
   "metadata": {},
   "outputs": [],
   "source": [
    "inputLayerNeurons, hiddenLayerNeurons, outputLayerNeurons = 4,4,1\n",
    "hweights = np.random.uniform(size=(inputLayerNeurons,hiddenLayerNeurons))\n",
    "hbias =np.random.uniform(size=(1,hiddenLayerNeurons))\n",
    "oweights = np.random.uniform(size=(hiddenLayerNeurons,outputLayerNeurons))\n",
    "obias = np.random.uniform(size=(1,outputLayerNeurons))\n",
    "epoch=400\n",
    "lr=0.1\n",
    "def sigmoid(x):\n",
    "    return 1/(1 + np.exp(-x))\n",
    "\n",
    "def sigmoid_d(x):\n",
    "    return x * (1 - x)\n",
    "z11=list()\n",
    "z12=list()"
   ]
  },
  {
   "cell_type": "code",
   "execution_count": 77,
   "metadata": {},
   "outputs": [
    {
     "ename": "Exception",
     "evalue": "Dot product shape mismatch, (119,) vs (1, 4)",
     "output_type": "error",
     "traceback": [
      "\u001b[1;31m---------------------------------------------------------------------------\u001b[0m",
      "\u001b[1;31mException\u001b[0m                                 Traceback (most recent call last)",
      "\u001b[1;32m<ipython-input-77-3bc8f8478fda>\u001b[0m in \u001b[0;36m<module>\u001b[1;34m\u001b[0m\n\u001b[0;32m     12\u001b[0m     \u001b[0mz12\u001b[0m\u001b[1;33m.\u001b[0m\u001b[0mappend\u001b[0m\u001b[1;33m(\u001b[0m\u001b[0mlr\u001b[0m\u001b[1;33m)\u001b[0m\u001b[1;33m\u001b[0m\u001b[1;33m\u001b[0m\u001b[0m\n\u001b[0;32m     13\u001b[0m     \u001b[0md_z_pred\u001b[0m\u001b[1;33m=\u001b[0m\u001b[0merror\u001b[0m\u001b[1;33m*\u001b[0m\u001b[0msigmoid_d\u001b[0m\u001b[1;33m(\u001b[0m\u001b[0mzn\u001b[0m\u001b[1;33m)\u001b[0m  \u001b[1;31m##backpropogation\u001b[0m\u001b[1;33m\u001b[0m\u001b[1;33m\u001b[0m\u001b[0m\n\u001b[1;32m---> 14\u001b[1;33m     \u001b[0merror_hl\u001b[0m\u001b[1;33m=\u001b[0m\u001b[0md_z_pred\u001b[0m\u001b[1;33m.\u001b[0m\u001b[0mdot\u001b[0m\u001b[1;33m(\u001b[0m\u001b[0moweights\u001b[0m\u001b[1;33m.\u001b[0m\u001b[0mT\u001b[0m\u001b[1;33m)\u001b[0m\u001b[1;33m\u001b[0m\u001b[1;33m\u001b[0m\u001b[0m\n\u001b[0m\u001b[0;32m     15\u001b[0m     \u001b[0md_hl\u001b[0m\u001b[1;33m=\u001b[0m\u001b[0merror_hl\u001b[0m\u001b[1;33m*\u001b[0m\u001b[0msigmoid_d\u001b[0m\u001b[1;33m(\u001b[0m\u001b[0mzhout\u001b[0m\u001b[1;33m)\u001b[0m\u001b[1;33m\u001b[0m\u001b[1;33m\u001b[0m\u001b[0m\n\u001b[0;32m     16\u001b[0m     \u001b[0moweights\u001b[0m \u001b[1;33m+=\u001b[0m\u001b[0mzhout\u001b[0m\u001b[1;33m.\u001b[0m\u001b[0mT\u001b[0m\u001b[1;33m.\u001b[0m\u001b[0mdot\u001b[0m\u001b[1;33m(\u001b[0m\u001b[0md_z_pred\u001b[0m\u001b[1;33m)\u001b[0m\u001b[1;33m*\u001b[0m\u001b[0mlr\u001b[0m\u001b[1;33m\u001b[0m\u001b[1;33m\u001b[0m\u001b[0m\n",
      "\u001b[1;32mc:\\users\\patryk\\appdata\\local\\programs\\python\\python37\\lib\\site-packages\\pandas\\core\\series.py\u001b[0m in \u001b[0;36mdot\u001b[1;34m(self, other)\u001b[0m\n\u001b[0;32m   2305\u001b[0m             \u001b[1;32mif\u001b[0m \u001b[0mlvals\u001b[0m\u001b[1;33m.\u001b[0m\u001b[0mshape\u001b[0m\u001b[1;33m[\u001b[0m\u001b[1;36m0\u001b[0m\u001b[1;33m]\u001b[0m \u001b[1;33m!=\u001b[0m \u001b[0mrvals\u001b[0m\u001b[1;33m.\u001b[0m\u001b[0mshape\u001b[0m\u001b[1;33m[\u001b[0m\u001b[1;36m0\u001b[0m\u001b[1;33m]\u001b[0m\u001b[1;33m:\u001b[0m\u001b[1;33m\u001b[0m\u001b[1;33m\u001b[0m\u001b[0m\n\u001b[0;32m   2306\u001b[0m                 raise Exception('Dot product shape mismatch, %s vs %s' %\n\u001b[1;32m-> 2307\u001b[1;33m                                 (lvals.shape, rvals.shape))\n\u001b[0m\u001b[0;32m   2308\u001b[0m \u001b[1;33m\u001b[0m\u001b[0m\n\u001b[0;32m   2309\u001b[0m         \u001b[1;32mif\u001b[0m \u001b[0misinstance\u001b[0m\u001b[1;33m(\u001b[0m\u001b[0mother\u001b[0m\u001b[1;33m,\u001b[0m \u001b[0mDataFrame\u001b[0m\u001b[1;33m)\u001b[0m\u001b[1;33m:\u001b[0m\u001b[1;33m\u001b[0m\u001b[1;33m\u001b[0m\u001b[0m\n",
      "\u001b[1;31mException\u001b[0m: Dot product shape mismatch, (119,) vs (1, 4)"
     ]
    }
   ],
   "source": [
    "for _ in range(epoch):\n",
    "    lr+=0.000001\n",
    "    zh=np.dot(x_train,hweights)+hbias\n",
    "    zhout=sigmoid(zh)\n",
    "    z=np.dot(zhout,oweights)+obias\n",
    "    z_pred=sigmoid(z)\n",
    "    zn=np.argmax(z_pred, axis=1)\n",
    "    error=y_train-zn\n",
    "    loss=0\n",
    "    loss=np.linalg.norm(error, keepdims=False)\n",
    "    z11.append(loss)\n",
    "    z12.append(lr)\n",
    "    d_z_pred=error*sigmoid_d(z_pred)  ##backpropogation\n",
    "    error_hl=d_z_pred.dot(oweights.T)\n",
    "    d_hl=error_hl*sigmoid_d(zhout)\n",
    "    oweights +=zhout.T.dot(d_z_pred)*lr\n",
    "    obias +=np.sum(d_z_pred,axis=0,keepdims=True)*lr\n",
    "    hweights +=x.T.dot(d_hl)*lr\n",
    "    hbias +=np.sum(d_hl,axis=0,keepdims=True)*lr"
   ]
  },
  {
   "cell_type": "code",
   "execution_count": null,
   "metadata": {},
   "outputs": [],
   "source": []
  }
 ],
 "metadata": {
  "kernelspec": {
   "display_name": "Python 3",
   "language": "python",
   "name": "python3"
  },
  "language_info": {
   "codemirror_mode": {
    "name": "ipython",
    "version": 3
   },
   "file_extension": ".py",
   "mimetype": "text/x-python",
   "name": "python",
   "nbconvert_exporter": "python",
   "pygments_lexer": "ipython3",
   "version": "3.7.3"
  }
 },
 "nbformat": 4,
 "nbformat_minor": 2
}
